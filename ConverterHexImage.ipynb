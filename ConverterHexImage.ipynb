{
  "nbformat": 4,
  "nbformat_minor": 0,
  "metadata": {
    "colab": {
      "provenance": []
    },
    "kernelspec": {
      "name": "python3",
      "display_name": "Python 3"
    },
    "language_info": {
      "name": "python"
    }
  },
  "cells": [
    {
      "cell_type": "markdown",
      "source": [
        "En primer lugar, importamos las librerias necesarias para la correcta ejecucion de nuestro programa\n",
        "\n",
        "Ademas, debemos asegurarnos de contar con nuestra imagen de 8bits en la carpeta de colab"
      ],
      "metadata": {
        "id": "IjiMKwMwexhw"
      }
    },
    {
      "cell_type": "code",
      "execution_count": null,
      "metadata": {
        "id": "OV-IXGw1dsQI"
      },
      "outputs": [],
      "source": [
        "from PIL import Image\n",
        "import cv2\n",
        "from colorsys import hsv_to_rgb"
      ]
    },
    {
      "cell_type": "markdown",
      "source": [
        "Luego, pasamos a obtener nuestra imagen que guardamos en la carpeta de colab, y ademas, extraemos su tamaño\n",
        "\n",
        "(se recomienda descargar la imagen y abrirlo en VSC, para que se pueda apreciar mejor, debido a que es una imagen de 16px x 16 px)"
      ],
      "metadata": {
        "id": "RE4bqkxefXsO"
      }
    },
    {
      "cell_type": "code",
      "source": [
        "img = cv2.imread('./goomba_16px.png')\n",
        "height = img.size\n",
        "weight = img.size"
      ],
      "metadata": {
        "id": "A9RdZ-w6gHYb"
      },
      "execution_count": null,
      "outputs": []
    },
    {
      "cell_type": "markdown",
      "source": [
        "Ahora, procedemos a extraer los codigos en hexadecimal de cada uno de los pixeles que conforman nuestra imagen (recordar que esta es una imagen de 16px x 16px)\n",
        "\n"
      ],
      "metadata": {
        "id": "7ImBaXKofjzZ"
      }
    },
    {
      "cell_type": "markdown",
      "source": [
        "Ya que en python, es sencillo extraer el color en RGB, por medio de un bucle, necesitamos un metodo que nos permita pasar del formato RGB a HEX, el cual es el siguiente:"
      ],
      "metadata": {
        "id": "C09yjBiUf7as"
      }
    },
    {
      "cell_type": "code",
      "source": [
        "def rgb_to_hex(r, g, b):\n",
        "    return '#{:02x}{:02x}{:02x}'.format(r, g, b)"
      ],
      "metadata": {
        "id": "UmcU2ytygLLv"
      },
      "execution_count": null,
      "outputs": []
    },
    {
      "cell_type": "markdown",
      "source": [
        "Creamos una variable que nos servira para almacenar los datos en formato Hexadecimal, y que utilizaremos mas adelante tambien para realizar el proceso inverso"
      ],
      "metadata": {
        "id": "UDgaEFo7iV13"
      }
    },
    {
      "cell_type": "code",
      "source": [
        "hexData = \"\""
      ],
      "metadata": {
        "id": "dr4-VzJWiVHx"
      },
      "execution_count": null,
      "outputs": []
    },
    {
      "cell_type": "markdown",
      "source": [
        "Ya con nuestro metodo para pasar de RGB a HEX, procedemos a realizar nuestro bucle por los pixeles de nuestra imagen obteniendo su respectivo color y pasandolo a formato hexadecimal.\n",
        "\n",
        "Imprimimos el numero de fila y columna del correspondiente pixel y su respectivo color en codigo HEX\n",
        "\n",
        "Ademas, vamos guardando la informacion en la variable anteriormente creada"
      ],
      "metadata": {
        "id": "q2hlcm_ngRgB"
      }
    },
    {
      "cell_type": "code",
      "source": [
        "for x in range(16):      # this row\n",
        "    for y in range(16):   # and this row was exchanged\n",
        "        print(\"Fila \", + x, \" Columna \", + y, \" Color en Hex: \", rgb_to_hex((img[x,y][2]), (img[x,y][1]), (img[x,y][0])))\n",
        "        hexData += rgb_to_hex((img[x,y][2]), (img[x,y][1]), (img[x,y][0]))"
      ],
      "metadata": {
        "colab": {
          "base_uri": "https://localhost:8080/"
        },
        "id": "Sh0wSWQUgSWE",
        "outputId": "6c1ce573-f9c8-4096-a362-8f7ea32b628a"
      },
      "execution_count": null,
      "outputs": [
        {
          "output_type": "stream",
          "name": "stdout",
          "text": [
            "Fila  0  Columna  0  Color en Hex:  #ffffff\n",
            "Fila  0  Columna  1  Color en Hex:  #ffffff\n",
            "Fila  0  Columna  2  Color en Hex:  #ffffff\n",
            "Fila  0  Columna  3  Color en Hex:  #ffffff\n",
            "Fila  0  Columna  4  Color en Hex:  #ffffff\n",
            "Fila  0  Columna  5  Color en Hex:  #ffffff\n",
            "Fila  0  Columna  6  Color en Hex:  #aa5500\n",
            "Fila  0  Columna  7  Color en Hex:  #aa5500\n",
            "Fila  0  Columna  8  Color en Hex:  #aa5500\n",
            "Fila  0  Columna  9  Color en Hex:  #aa5500\n",
            "Fila  0  Columna  10  Color en Hex:  #ffffff\n",
            "Fila  0  Columna  11  Color en Hex:  #ffffff\n",
            "Fila  0  Columna  12  Color en Hex:  #ffffff\n",
            "Fila  0  Columna  13  Color en Hex:  #ffffff\n",
            "Fila  0  Columna  14  Color en Hex:  #ffffff\n",
            "Fila  0  Columna  15  Color en Hex:  #ffffff\n",
            "Fila  1  Columna  0  Color en Hex:  #ffffff\n",
            "Fila  1  Columna  1  Color en Hex:  #ffffff\n",
            "Fila  1  Columna  2  Color en Hex:  #ffffff\n",
            "Fila  1  Columna  3  Color en Hex:  #ffffff\n",
            "Fila  1  Columna  4  Color en Hex:  #ffffff\n",
            "Fila  1  Columna  5  Color en Hex:  #aa5500\n",
            "Fila  1  Columna  6  Color en Hex:  #aa5500\n",
            "Fila  1  Columna  7  Color en Hex:  #aa5500\n",
            "Fila  1  Columna  8  Color en Hex:  #aa5500\n",
            "Fila  1  Columna  9  Color en Hex:  #aa5500\n",
            "Fila  1  Columna  10  Color en Hex:  #aa5500\n",
            "Fila  1  Columna  11  Color en Hex:  #ffffff\n",
            "Fila  1  Columna  12  Color en Hex:  #ffffff\n",
            "Fila  1  Columna  13  Color en Hex:  #ffffff\n",
            "Fila  1  Columna  14  Color en Hex:  #ffffff\n",
            "Fila  1  Columna  15  Color en Hex:  #ffffff\n",
            "Fila  2  Columna  0  Color en Hex:  #ffffff\n",
            "Fila  2  Columna  1  Color en Hex:  #ffffff\n",
            "Fila  2  Columna  2  Color en Hex:  #ffffff\n",
            "Fila  2  Columna  3  Color en Hex:  #ffffff\n",
            "Fila  2  Columna  4  Color en Hex:  #aa5500\n",
            "Fila  2  Columna  5  Color en Hex:  #aa5500\n",
            "Fila  2  Columna  6  Color en Hex:  #aa5500\n",
            "Fila  2  Columna  7  Color en Hex:  #aa5500\n",
            "Fila  2  Columna  8  Color en Hex:  #aa5500\n",
            "Fila  2  Columna  9  Color en Hex:  #aa5500\n",
            "Fila  2  Columna  10  Color en Hex:  #aa5500\n",
            "Fila  2  Columna  11  Color en Hex:  #aa5500\n",
            "Fila  2  Columna  12  Color en Hex:  #ffffff\n",
            "Fila  2  Columna  13  Color en Hex:  #ffffff\n",
            "Fila  2  Columna  14  Color en Hex:  #ffffff\n",
            "Fila  2  Columna  15  Color en Hex:  #ffffff\n",
            "Fila  3  Columna  0  Color en Hex:  #ffffff\n",
            "Fila  3  Columna  1  Color en Hex:  #ffffff\n",
            "Fila  3  Columna  2  Color en Hex:  #ffffff\n",
            "Fila  3  Columna  3  Color en Hex:  #aa5500\n",
            "Fila  3  Columna  4  Color en Hex:  #aa5500\n",
            "Fila  3  Columna  5  Color en Hex:  #aa5500\n",
            "Fila  3  Columna  6  Color en Hex:  #aa5500\n",
            "Fila  3  Columna  7  Color en Hex:  #aa5500\n",
            "Fila  3  Columna  8  Color en Hex:  #aa5500\n",
            "Fila  3  Columna  9  Color en Hex:  #aa5500\n",
            "Fila  3  Columna  10  Color en Hex:  #aa5500\n",
            "Fila  3  Columna  11  Color en Hex:  #aa5500\n",
            "Fila  3  Columna  12  Color en Hex:  #aa5500\n",
            "Fila  3  Columna  13  Color en Hex:  #ffffff\n",
            "Fila  3  Columna  14  Color en Hex:  #ffffff\n",
            "Fila  3  Columna  15  Color en Hex:  #ffffff\n",
            "Fila  4  Columna  0  Color en Hex:  #ffffff\n",
            "Fila  4  Columna  1  Color en Hex:  #ffffff\n",
            "Fila  4  Columna  2  Color en Hex:  #aa5500\n",
            "Fila  4  Columna  3  Color en Hex:  #000000\n",
            "Fila  4  Columna  4  Color en Hex:  #000000\n",
            "Fila  4  Columna  5  Color en Hex:  #aa5500\n",
            "Fila  4  Columna  6  Color en Hex:  #aa5500\n",
            "Fila  4  Columna  7  Color en Hex:  #aa5500\n",
            "Fila  4  Columna  8  Color en Hex:  #aa5500\n",
            "Fila  4  Columna  9  Color en Hex:  #aa5500\n",
            "Fila  4  Columna  10  Color en Hex:  #aa5500\n",
            "Fila  4  Columna  11  Color en Hex:  #000000\n",
            "Fila  4  Columna  12  Color en Hex:  #000000\n",
            "Fila  4  Columna  13  Color en Hex:  #aa5500\n",
            "Fila  4  Columna  14  Color en Hex:  #ffffff\n",
            "Fila  4  Columna  15  Color en Hex:  #ffffff\n",
            "Fila  5  Columna  0  Color en Hex:  #ffffff\n",
            "Fila  5  Columna  1  Color en Hex:  #aa5500\n",
            "Fila  5  Columna  2  Color en Hex:  #aa5500\n",
            "Fila  5  Columna  3  Color en Hex:  #aa5500\n",
            "Fila  5  Columna  4  Color en Hex:  #aaaaaa\n",
            "Fila  5  Columna  5  Color en Hex:  #000000\n",
            "Fila  5  Columna  6  Color en Hex:  #aa5500\n",
            "Fila  5  Columna  7  Color en Hex:  #aa5500\n",
            "Fila  5  Columna  8  Color en Hex:  #aa5500\n",
            "Fila  5  Columna  9  Color en Hex:  #aa5500\n",
            "Fila  5  Columna  10  Color en Hex:  #000000\n",
            "Fila  5  Columna  11  Color en Hex:  #aaaaaa\n",
            "Fila  5  Columna  12  Color en Hex:  #aa5500\n",
            "Fila  5  Columna  13  Color en Hex:  #aa5500\n",
            "Fila  5  Columna  14  Color en Hex:  #aa5500\n",
            "Fila  5  Columna  15  Color en Hex:  #ffffff\n",
            "Fila  6  Columna  0  Color en Hex:  #ffffff\n",
            "Fila  6  Columna  1  Color en Hex:  #aa5500\n",
            "Fila  6  Columna  2  Color en Hex:  #aa5500\n",
            "Fila  6  Columna  3  Color en Hex:  #aa5500\n",
            "Fila  6  Columna  4  Color en Hex:  #aaaaaa\n",
            "Fila  6  Columna  5  Color en Hex:  #000000\n",
            "Fila  6  Columna  6  Color en Hex:  #000000\n",
            "Fila  6  Columna  7  Color en Hex:  #000000\n",
            "Fila  6  Columna  8  Color en Hex:  #000000\n",
            "Fila  6  Columna  9  Color en Hex:  #000000\n",
            "Fila  6  Columna  10  Color en Hex:  #000000\n",
            "Fila  6  Columna  11  Color en Hex:  #aaaaaa\n",
            "Fila  6  Columna  12  Color en Hex:  #aa5500\n",
            "Fila  6  Columna  13  Color en Hex:  #aa5500\n",
            "Fila  6  Columna  14  Color en Hex:  #aa5500\n",
            "Fila  6  Columna  15  Color en Hex:  #ffffff\n",
            "Fila  7  Columna  0  Color en Hex:  #aa5500\n",
            "Fila  7  Columna  1  Color en Hex:  #aa5500\n",
            "Fila  7  Columna  2  Color en Hex:  #aa5500\n",
            "Fila  7  Columna  3  Color en Hex:  #aa5500\n",
            "Fila  7  Columna  4  Color en Hex:  #aaaaaa\n",
            "Fila  7  Columna  5  Color en Hex:  #000000\n",
            "Fila  7  Columna  6  Color en Hex:  #aaaaaa\n",
            "Fila  7  Columna  7  Color en Hex:  #aa5500\n",
            "Fila  7  Columna  8  Color en Hex:  #aa5500\n",
            "Fila  7  Columna  9  Color en Hex:  #aaaaaa\n",
            "Fila  7  Columna  10  Color en Hex:  #000000\n",
            "Fila  7  Columna  11  Color en Hex:  #aaaaaa\n",
            "Fila  7  Columna  12  Color en Hex:  #aa5500\n",
            "Fila  7  Columna  13  Color en Hex:  #aa5500\n",
            "Fila  7  Columna  14  Color en Hex:  #aa5500\n",
            "Fila  7  Columna  15  Color en Hex:  #aa5500\n",
            "Fila  8  Columna  0  Color en Hex:  #aa5500\n",
            "Fila  8  Columna  1  Color en Hex:  #aa5500\n",
            "Fila  8  Columna  2  Color en Hex:  #aa5500\n",
            "Fila  8  Columna  3  Color en Hex:  #aa5500\n",
            "Fila  8  Columna  4  Color en Hex:  #aaaaaa\n",
            "Fila  8  Columna  5  Color en Hex:  #aaaaaa\n",
            "Fila  8  Columna  6  Color en Hex:  #aaaaaa\n",
            "Fila  8  Columna  7  Color en Hex:  #aa5500\n",
            "Fila  8  Columna  8  Color en Hex:  #aa5500\n",
            "Fila  8  Columna  9  Color en Hex:  #aaaaaa\n",
            "Fila  8  Columna  10  Color en Hex:  #aaaaaa\n",
            "Fila  8  Columna  11  Color en Hex:  #aaaaaa\n",
            "Fila  8  Columna  12  Color en Hex:  #aa5500\n",
            "Fila  8  Columna  13  Color en Hex:  #aa5500\n",
            "Fila  8  Columna  14  Color en Hex:  #aa5500\n",
            "Fila  8  Columna  15  Color en Hex:  #aa5500\n",
            "Fila  9  Columna  0  Color en Hex:  #aa5500\n",
            "Fila  9  Columna  1  Color en Hex:  #aa5500\n",
            "Fila  9  Columna  2  Color en Hex:  #aa5500\n",
            "Fila  9  Columna  3  Color en Hex:  #aa5500\n",
            "Fila  9  Columna  4  Color en Hex:  #aa5500\n",
            "Fila  9  Columna  5  Color en Hex:  #aa5500\n",
            "Fila  9  Columna  6  Color en Hex:  #aa5500\n",
            "Fila  9  Columna  7  Color en Hex:  #aa5500\n",
            "Fila  9  Columna  8  Color en Hex:  #aa5500\n",
            "Fila  9  Columna  9  Color en Hex:  #aa5500\n",
            "Fila  9  Columna  10  Color en Hex:  #aa5500\n",
            "Fila  9  Columna  11  Color en Hex:  #aa5500\n",
            "Fila  9  Columna  12  Color en Hex:  #aa5500\n",
            "Fila  9  Columna  13  Color en Hex:  #aa5500\n",
            "Fila  9  Columna  14  Color en Hex:  #aa5500\n",
            "Fila  9  Columna  15  Color en Hex:  #aa5500\n",
            "Fila  10  Columna  0  Color en Hex:  #ffffff\n",
            "Fila  10  Columna  1  Color en Hex:  #aa5500\n",
            "Fila  10  Columna  2  Color en Hex:  #aa5500\n",
            "Fila  10  Columna  3  Color en Hex:  #aa5500\n",
            "Fila  10  Columna  4  Color en Hex:  #aa5500\n",
            "Fila  10  Columna  5  Color en Hex:  #aaaaaa\n",
            "Fila  10  Columna  6  Color en Hex:  #aaaaaa\n",
            "Fila  10  Columna  7  Color en Hex:  #aaaaaa\n",
            "Fila  10  Columna  8  Color en Hex:  #aaaaaa\n",
            "Fila  10  Columna  9  Color en Hex:  #aaaaaa\n",
            "Fila  10  Columna  10  Color en Hex:  #aaaaaa\n",
            "Fila  10  Columna  11  Color en Hex:  #aa5500\n",
            "Fila  10  Columna  12  Color en Hex:  #aa5500\n",
            "Fila  10  Columna  13  Color en Hex:  #aa5500\n",
            "Fila  10  Columna  14  Color en Hex:  #aa5500\n",
            "Fila  10  Columna  15  Color en Hex:  #ffffff\n",
            "Fila  11  Columna  0  Color en Hex:  #ffffff\n",
            "Fila  11  Columna  1  Color en Hex:  #ffffff\n",
            "Fila  11  Columna  2  Color en Hex:  #ffffff\n",
            "Fila  11  Columna  3  Color en Hex:  #ffffff\n",
            "Fila  11  Columna  4  Color en Hex:  #aaaaaa\n",
            "Fila  11  Columna  5  Color en Hex:  #aaaaaa\n",
            "Fila  11  Columna  6  Color en Hex:  #aaaaaa\n",
            "Fila  11  Columna  7  Color en Hex:  #aaaaaa\n",
            "Fila  11  Columna  8  Color en Hex:  #aaaaaa\n",
            "Fila  11  Columna  9  Color en Hex:  #aaaaaa\n",
            "Fila  11  Columna  10  Color en Hex:  #aaaaaa\n",
            "Fila  11  Columna  11  Color en Hex:  #aaaaaa\n",
            "Fila  11  Columna  12  Color en Hex:  #ffffff\n",
            "Fila  11  Columna  13  Color en Hex:  #ffffff\n",
            "Fila  11  Columna  14  Color en Hex:  #ffffff\n",
            "Fila  11  Columna  15  Color en Hex:  #ffffff\n",
            "Fila  12  Columna  0  Color en Hex:  #ffffff\n",
            "Fila  12  Columna  1  Color en Hex:  #ffffff\n",
            "Fila  12  Columna  2  Color en Hex:  #000000\n",
            "Fila  12  Columna  3  Color en Hex:  #000000\n",
            "Fila  12  Columna  4  Color en Hex:  #aaaaaa\n",
            "Fila  12  Columna  5  Color en Hex:  #aaaaaa\n",
            "Fila  12  Columna  6  Color en Hex:  #aaaaaa\n",
            "Fila  12  Columna  7  Color en Hex:  #aaaaaa\n",
            "Fila  12  Columna  8  Color en Hex:  #aaaaaa\n",
            "Fila  12  Columna  9  Color en Hex:  #aaaaaa\n",
            "Fila  12  Columna  10  Color en Hex:  #aaaaaa\n",
            "Fila  12  Columna  11  Color en Hex:  #aaaaaa\n",
            "Fila  12  Columna  12  Color en Hex:  #000000\n",
            "Fila  12  Columna  13  Color en Hex:  #000000\n",
            "Fila  12  Columna  14  Color en Hex:  #ffffff\n",
            "Fila  12  Columna  15  Color en Hex:  #ffffff\n",
            "Fila  13  Columna  0  Color en Hex:  #ffffff\n",
            "Fila  13  Columna  1  Color en Hex:  #000000\n",
            "Fila  13  Columna  2  Color en Hex:  #000000\n",
            "Fila  13  Columna  3  Color en Hex:  #000000\n",
            "Fila  13  Columna  4  Color en Hex:  #000000\n",
            "Fila  13  Columna  5  Color en Hex:  #000000\n",
            "Fila  13  Columna  6  Color en Hex:  #aaaaaa\n",
            "Fila  13  Columna  7  Color en Hex:  #aaaaaa\n",
            "Fila  13  Columna  8  Color en Hex:  #aaaaaa\n",
            "Fila  13  Columna  9  Color en Hex:  #aaaaaa\n",
            "Fila  13  Columna  10  Color en Hex:  #000000\n",
            "Fila  13  Columna  11  Color en Hex:  #000000\n",
            "Fila  13  Columna  12  Color en Hex:  #000000\n",
            "Fila  13  Columna  13  Color en Hex:  #000000\n",
            "Fila  13  Columna  14  Color en Hex:  #000000\n",
            "Fila  13  Columna  15  Color en Hex:  #ffffff\n",
            "Fila  14  Columna  0  Color en Hex:  #ffffff\n",
            "Fila  14  Columna  1  Color en Hex:  #000000\n",
            "Fila  14  Columna  2  Color en Hex:  #000000\n",
            "Fila  14  Columna  3  Color en Hex:  #000000\n",
            "Fila  14  Columna  4  Color en Hex:  #000000\n",
            "Fila  14  Columna  5  Color en Hex:  #000000\n",
            "Fila  14  Columna  6  Color en Hex:  #000000\n",
            "Fila  14  Columna  7  Color en Hex:  #aaaaaa\n",
            "Fila  14  Columna  8  Color en Hex:  #aaaaaa\n",
            "Fila  14  Columna  9  Color en Hex:  #000000\n",
            "Fila  14  Columna  10  Color en Hex:  #000000\n",
            "Fila  14  Columna  11  Color en Hex:  #000000\n",
            "Fila  14  Columna  12  Color en Hex:  #000000\n",
            "Fila  14  Columna  13  Color en Hex:  #000000\n",
            "Fila  14  Columna  14  Color en Hex:  #000000\n",
            "Fila  14  Columna  15  Color en Hex:  #ffffff\n",
            "Fila  15  Columna  0  Color en Hex:  #ffffff\n",
            "Fila  15  Columna  1  Color en Hex:  #ffffff\n",
            "Fila  15  Columna  2  Color en Hex:  #000000\n",
            "Fila  15  Columna  3  Color en Hex:  #000000\n",
            "Fila  15  Columna  4  Color en Hex:  #000000\n",
            "Fila  15  Columna  5  Color en Hex:  #000000\n",
            "Fila  15  Columna  6  Color en Hex:  #000000\n",
            "Fila  15  Columna  7  Color en Hex:  #ffffff\n",
            "Fila  15  Columna  8  Color en Hex:  #ffffff\n",
            "Fila  15  Columna  9  Color en Hex:  #000000\n",
            "Fila  15  Columna  10  Color en Hex:  #000000\n",
            "Fila  15  Columna  11  Color en Hex:  #000000\n",
            "Fila  15  Columna  12  Color en Hex:  #000000\n",
            "Fila  15  Columna  13  Color en Hex:  #000000\n",
            "Fila  15  Columna  14  Color en Hex:  #ffffff\n",
            "Fila  15  Columna  15  Color en Hex:  #ffffff\n"
          ]
        }
      ]
    },
    {
      "cell_type": "markdown",
      "source": [
        "Luego, limpiamos los datos que obtenemos, dejando unicamente los valores que confoman el codigo hexadecimal, de nuestra variable creada anteriormente\n",
        "\n",
        "Imprimimos su valor"
      ],
      "metadata": {
        "id": "zVmi8i1bi3Ot"
      }
    },
    {
      "cell_type": "code",
      "source": [
        "hexData=hexData.strip()\n",
        "hexData=hexData.replace(' ', '')\n",
        "hexData=hexData.replace('#', '')\n",
        "print(hexData)"
      ],
      "metadata": {
        "colab": {
          "base_uri": "https://localhost:8080/"
        },
        "id": "pWEJvqp1iw-a",
        "outputId": "a8b5ee99-297d-4ed5-8e2a-a28223e97006"
      },
      "execution_count": null,
      "outputs": [
        {
          "output_type": "stream",
          "name": "stdout",
          "text": [
            "ffffffffffffffffffffffffffffffffffffaa5500aa5500aa5500aa5500ffffffffffffffffffffffffffffffffffffffffffffffffffffffffffffffffffaa5500aa5500aa5500aa5500aa5500aa5500ffffffffffffffffffffffffffffffffffffffffffffffffffffffaa5500aa5500aa5500aa5500aa5500aa5500aa5500aa5500ffffffffffffffffffffffffffffffffffffffffffaa5500aa5500aa5500aa5500aa5500aa5500aa5500aa5500aa5500aa5500ffffffffffffffffffffffffffffffaa5500000000000000aa5500aa5500aa5500aa5500aa5500aa5500000000000000aa5500ffffffffffffffffffaa5500aa5500aa5500aaaaaa000000aa5500aa5500aa5500aa5500000000aaaaaaaa5500aa5500aa5500ffffffffffffaa5500aa5500aa5500aaaaaa000000000000000000000000000000000000aaaaaaaa5500aa5500aa5500ffffffaa5500aa5500aa5500aa5500aaaaaa000000aaaaaaaa5500aa5500aaaaaa000000aaaaaaaa5500aa5500aa5500aa5500aa5500aa5500aa5500aa5500aaaaaaaaaaaaaaaaaaaa5500aa5500aaaaaaaaaaaaaaaaaaaa5500aa5500aa5500aa5500aa5500aa5500aa5500aa5500aa5500aa5500aa5500aa5500aa5500aa5500aa5500aa5500aa5500aa5500aa5500aa5500ffffffaa5500aa5500aa5500aa5500aaaaaaaaaaaaaaaaaaaaaaaaaaaaaaaaaaaaaa5500aa5500aa5500aa5500ffffffffffffffffffffffffffffffaaaaaaaaaaaaaaaaaaaaaaaaaaaaaaaaaaaaaaaaaaaaaaaaffffffffffffffffffffffffffffffffffff000000000000aaaaaaaaaaaaaaaaaaaaaaaaaaaaaaaaaaaaaaaaaaaaaaaa000000000000ffffffffffffffffff000000000000000000000000000000aaaaaaaaaaaaaaaaaaaaaaaa000000000000000000000000000000ffffffffffff000000000000000000000000000000000000aaaaaaaaaaaa000000000000000000000000000000000000ffffffffffffffffff000000000000000000000000000000ffffffffffff000000000000000000000000000000ffffffffffff\n"
          ]
        }
      ]
    },
    {
      "cell_type": "markdown",
      "source": [
        "Ahora, queremos mostrar el formato hexadecimal, en algo mas familiar, segun lo que vimos en clase, nos referimos a la diapositiva #67 (Ejemplo de mapa de bits) de la presentacion: \"Sistemas de numeracion y punto flotante\", para ello usamos el siguiente metodo"
      ],
      "metadata": {
        "id": "qrxMSgQCg2UW"
      }
    },
    {
      "cell_type": "code",
      "source": [
        "def fhex_to_whex(str):\n",
        "    if str == \"#000000\": #black\n",
        "        return \"0\"\n",
        "    if str == \"#0000aa\": #dark_blue\n",
        "        return \"1\"\n",
        "    if str == \"#00aa00\": #dark_green\n",
        "        return \"2\"\n",
        "    if str == \"#00aaaa\": #dark_cyan\n",
        "        return \"3\"\n",
        "    if str == \"#aa0000\": #dark_red\n",
        "        return \"4\"\n",
        "    if str == \"#aa00aa\": #dark_magenta\n",
        "        return \"5\"\n",
        "    if str == \"#aa5500\": #brown\n",
        "        return \"6\"\n",
        "    if str == \"#aaaaaa\": #light_gray\n",
        "        return \"7\"\n",
        "    if str == \"#555555\": #dark_gray\n",
        "        return \"8\"\n",
        "    if str == \"#5555ff\": #light_blue\n",
        "        return \"9\"\n",
        "    if str == \"#55ff55\": #light_green\n",
        "        return \"A\"\n",
        "    if str == \"#55ffff\": #light_cyan\n",
        "        return \"B\"\n",
        "    if str == \"#ff5555\": #light_red\n",
        "        return \"C\"\n",
        "    if str == \"#ff55ff\": #light_magenta\n",
        "        return \"D\"\n",
        "    if str == \"#ffff55\": #yellow\n",
        "        return \"E\"\n",
        "    if str == \"#ffffff\": #white\n",
        "        return \"F\""
      ],
      "metadata": {
        "id": "yRJEQFA4gVdY"
      },
      "execution_count": null,
      "outputs": []
    },
    {
      "cell_type": "markdown",
      "source": [
        "Y replicamos el blucle para imprimir nuestros resultados en el sistema Hexadecimal visto en la dispositiva anteriormente mencionada"
      ],
      "metadata": {
        "id": "ZKHbAAXEhqiY"
      }
    },
    {
      "cell_type": "code",
      "source": [
        "for x in range(16):      # this row\n",
        "    for y in range(16):   # and this row was exchanged\n",
        "        print(\"Fila \", + x, \" Columna \", + y, \" Color en Hex: \", fhex_to_whex(rgb_to_hex((img[x,y][2]), (img[x,y][1]), (img[x,y][0]))))"
      ],
      "metadata": {
        "colab": {
          "base_uri": "https://localhost:8080/"
        },
        "id": "kGsza_D8gYja",
        "outputId": "3dc07ce2-592f-4007-d4ae-8129fdd7b368"
      },
      "execution_count": null,
      "outputs": [
        {
          "output_type": "stream",
          "name": "stdout",
          "text": [
            "Fila  0  Columna  0  Color en Hex:  F\n",
            "Fila  0  Columna  1  Color en Hex:  F\n",
            "Fila  0  Columna  2  Color en Hex:  F\n",
            "Fila  0  Columna  3  Color en Hex:  F\n",
            "Fila  0  Columna  4  Color en Hex:  F\n",
            "Fila  0  Columna  5  Color en Hex:  F\n",
            "Fila  0  Columna  6  Color en Hex:  6\n",
            "Fila  0  Columna  7  Color en Hex:  6\n",
            "Fila  0  Columna  8  Color en Hex:  6\n",
            "Fila  0  Columna  9  Color en Hex:  6\n",
            "Fila  0  Columna  10  Color en Hex:  F\n",
            "Fila  0  Columna  11  Color en Hex:  F\n",
            "Fila  0  Columna  12  Color en Hex:  F\n",
            "Fila  0  Columna  13  Color en Hex:  F\n",
            "Fila  0  Columna  14  Color en Hex:  F\n",
            "Fila  0  Columna  15  Color en Hex:  F\n",
            "Fila  1  Columna  0  Color en Hex:  F\n",
            "Fila  1  Columna  1  Color en Hex:  F\n",
            "Fila  1  Columna  2  Color en Hex:  F\n",
            "Fila  1  Columna  3  Color en Hex:  F\n",
            "Fila  1  Columna  4  Color en Hex:  F\n",
            "Fila  1  Columna  5  Color en Hex:  6\n",
            "Fila  1  Columna  6  Color en Hex:  6\n",
            "Fila  1  Columna  7  Color en Hex:  6\n",
            "Fila  1  Columna  8  Color en Hex:  6\n",
            "Fila  1  Columna  9  Color en Hex:  6\n",
            "Fila  1  Columna  10  Color en Hex:  6\n",
            "Fila  1  Columna  11  Color en Hex:  F\n",
            "Fila  1  Columna  12  Color en Hex:  F\n",
            "Fila  1  Columna  13  Color en Hex:  F\n",
            "Fila  1  Columna  14  Color en Hex:  F\n",
            "Fila  1  Columna  15  Color en Hex:  F\n",
            "Fila  2  Columna  0  Color en Hex:  F\n",
            "Fila  2  Columna  1  Color en Hex:  F\n",
            "Fila  2  Columna  2  Color en Hex:  F\n",
            "Fila  2  Columna  3  Color en Hex:  F\n",
            "Fila  2  Columna  4  Color en Hex:  6\n",
            "Fila  2  Columna  5  Color en Hex:  6\n",
            "Fila  2  Columna  6  Color en Hex:  6\n",
            "Fila  2  Columna  7  Color en Hex:  6\n",
            "Fila  2  Columna  8  Color en Hex:  6\n",
            "Fila  2  Columna  9  Color en Hex:  6\n",
            "Fila  2  Columna  10  Color en Hex:  6\n",
            "Fila  2  Columna  11  Color en Hex:  6\n",
            "Fila  2  Columna  12  Color en Hex:  F\n",
            "Fila  2  Columna  13  Color en Hex:  F\n",
            "Fila  2  Columna  14  Color en Hex:  F\n",
            "Fila  2  Columna  15  Color en Hex:  F\n",
            "Fila  3  Columna  0  Color en Hex:  F\n",
            "Fila  3  Columna  1  Color en Hex:  F\n",
            "Fila  3  Columna  2  Color en Hex:  F\n",
            "Fila  3  Columna  3  Color en Hex:  6\n",
            "Fila  3  Columna  4  Color en Hex:  6\n",
            "Fila  3  Columna  5  Color en Hex:  6\n",
            "Fila  3  Columna  6  Color en Hex:  6\n",
            "Fila  3  Columna  7  Color en Hex:  6\n",
            "Fila  3  Columna  8  Color en Hex:  6\n",
            "Fila  3  Columna  9  Color en Hex:  6\n",
            "Fila  3  Columna  10  Color en Hex:  6\n",
            "Fila  3  Columna  11  Color en Hex:  6\n",
            "Fila  3  Columna  12  Color en Hex:  6\n",
            "Fila  3  Columna  13  Color en Hex:  F\n",
            "Fila  3  Columna  14  Color en Hex:  F\n",
            "Fila  3  Columna  15  Color en Hex:  F\n",
            "Fila  4  Columna  0  Color en Hex:  F\n",
            "Fila  4  Columna  1  Color en Hex:  F\n",
            "Fila  4  Columna  2  Color en Hex:  6\n",
            "Fila  4  Columna  3  Color en Hex:  0\n",
            "Fila  4  Columna  4  Color en Hex:  0\n",
            "Fila  4  Columna  5  Color en Hex:  6\n",
            "Fila  4  Columna  6  Color en Hex:  6\n",
            "Fila  4  Columna  7  Color en Hex:  6\n",
            "Fila  4  Columna  8  Color en Hex:  6\n",
            "Fila  4  Columna  9  Color en Hex:  6\n",
            "Fila  4  Columna  10  Color en Hex:  6\n",
            "Fila  4  Columna  11  Color en Hex:  0\n",
            "Fila  4  Columna  12  Color en Hex:  0\n",
            "Fila  4  Columna  13  Color en Hex:  6\n",
            "Fila  4  Columna  14  Color en Hex:  F\n",
            "Fila  4  Columna  15  Color en Hex:  F\n",
            "Fila  5  Columna  0  Color en Hex:  F\n",
            "Fila  5  Columna  1  Color en Hex:  6\n",
            "Fila  5  Columna  2  Color en Hex:  6\n",
            "Fila  5  Columna  3  Color en Hex:  6\n",
            "Fila  5  Columna  4  Color en Hex:  7\n",
            "Fila  5  Columna  5  Color en Hex:  0\n",
            "Fila  5  Columna  6  Color en Hex:  6\n",
            "Fila  5  Columna  7  Color en Hex:  6\n",
            "Fila  5  Columna  8  Color en Hex:  6\n",
            "Fila  5  Columna  9  Color en Hex:  6\n",
            "Fila  5  Columna  10  Color en Hex:  0\n",
            "Fila  5  Columna  11  Color en Hex:  7\n",
            "Fila  5  Columna  12  Color en Hex:  6\n",
            "Fila  5  Columna  13  Color en Hex:  6\n",
            "Fila  5  Columna  14  Color en Hex:  6\n",
            "Fila  5  Columna  15  Color en Hex:  F\n",
            "Fila  6  Columna  0  Color en Hex:  F\n",
            "Fila  6  Columna  1  Color en Hex:  6\n",
            "Fila  6  Columna  2  Color en Hex:  6\n",
            "Fila  6  Columna  3  Color en Hex:  6\n",
            "Fila  6  Columna  4  Color en Hex:  7\n",
            "Fila  6  Columna  5  Color en Hex:  0\n",
            "Fila  6  Columna  6  Color en Hex:  0\n",
            "Fila  6  Columna  7  Color en Hex:  0\n",
            "Fila  6  Columna  8  Color en Hex:  0\n",
            "Fila  6  Columna  9  Color en Hex:  0\n",
            "Fila  6  Columna  10  Color en Hex:  0\n",
            "Fila  6  Columna  11  Color en Hex:  7\n",
            "Fila  6  Columna  12  Color en Hex:  6\n",
            "Fila  6  Columna  13  Color en Hex:  6\n",
            "Fila  6  Columna  14  Color en Hex:  6\n",
            "Fila  6  Columna  15  Color en Hex:  F\n",
            "Fila  7  Columna  0  Color en Hex:  6\n",
            "Fila  7  Columna  1  Color en Hex:  6\n",
            "Fila  7  Columna  2  Color en Hex:  6\n",
            "Fila  7  Columna  3  Color en Hex:  6\n",
            "Fila  7  Columna  4  Color en Hex:  7\n",
            "Fila  7  Columna  5  Color en Hex:  0\n",
            "Fila  7  Columna  6  Color en Hex:  7\n",
            "Fila  7  Columna  7  Color en Hex:  6\n",
            "Fila  7  Columna  8  Color en Hex:  6\n",
            "Fila  7  Columna  9  Color en Hex:  7\n",
            "Fila  7  Columna  10  Color en Hex:  0\n",
            "Fila  7  Columna  11  Color en Hex:  7\n",
            "Fila  7  Columna  12  Color en Hex:  6\n",
            "Fila  7  Columna  13  Color en Hex:  6\n",
            "Fila  7  Columna  14  Color en Hex:  6\n",
            "Fila  7  Columna  15  Color en Hex:  6\n",
            "Fila  8  Columna  0  Color en Hex:  6\n",
            "Fila  8  Columna  1  Color en Hex:  6\n",
            "Fila  8  Columna  2  Color en Hex:  6\n",
            "Fila  8  Columna  3  Color en Hex:  6\n",
            "Fila  8  Columna  4  Color en Hex:  7\n",
            "Fila  8  Columna  5  Color en Hex:  7\n",
            "Fila  8  Columna  6  Color en Hex:  7\n",
            "Fila  8  Columna  7  Color en Hex:  6\n",
            "Fila  8  Columna  8  Color en Hex:  6\n",
            "Fila  8  Columna  9  Color en Hex:  7\n",
            "Fila  8  Columna  10  Color en Hex:  7\n",
            "Fila  8  Columna  11  Color en Hex:  7\n",
            "Fila  8  Columna  12  Color en Hex:  6\n",
            "Fila  8  Columna  13  Color en Hex:  6\n",
            "Fila  8  Columna  14  Color en Hex:  6\n",
            "Fila  8  Columna  15  Color en Hex:  6\n",
            "Fila  9  Columna  0  Color en Hex:  6\n",
            "Fila  9  Columna  1  Color en Hex:  6\n",
            "Fila  9  Columna  2  Color en Hex:  6\n",
            "Fila  9  Columna  3  Color en Hex:  6\n",
            "Fila  9  Columna  4  Color en Hex:  6\n",
            "Fila  9  Columna  5  Color en Hex:  6\n",
            "Fila  9  Columna  6  Color en Hex:  6\n",
            "Fila  9  Columna  7  Color en Hex:  6\n",
            "Fila  9  Columna  8  Color en Hex:  6\n",
            "Fila  9  Columna  9  Color en Hex:  6\n",
            "Fila  9  Columna  10  Color en Hex:  6\n",
            "Fila  9  Columna  11  Color en Hex:  6\n",
            "Fila  9  Columna  12  Color en Hex:  6\n",
            "Fila  9  Columna  13  Color en Hex:  6\n",
            "Fila  9  Columna  14  Color en Hex:  6\n",
            "Fila  9  Columna  15  Color en Hex:  6\n",
            "Fila  10  Columna  0  Color en Hex:  F\n",
            "Fila  10  Columna  1  Color en Hex:  6\n",
            "Fila  10  Columna  2  Color en Hex:  6\n",
            "Fila  10  Columna  3  Color en Hex:  6\n",
            "Fila  10  Columna  4  Color en Hex:  6\n",
            "Fila  10  Columna  5  Color en Hex:  7\n",
            "Fila  10  Columna  6  Color en Hex:  7\n",
            "Fila  10  Columna  7  Color en Hex:  7\n",
            "Fila  10  Columna  8  Color en Hex:  7\n",
            "Fila  10  Columna  9  Color en Hex:  7\n",
            "Fila  10  Columna  10  Color en Hex:  7\n",
            "Fila  10  Columna  11  Color en Hex:  6\n",
            "Fila  10  Columna  12  Color en Hex:  6\n",
            "Fila  10  Columna  13  Color en Hex:  6\n",
            "Fila  10  Columna  14  Color en Hex:  6\n",
            "Fila  10  Columna  15  Color en Hex:  F\n",
            "Fila  11  Columna  0  Color en Hex:  F\n",
            "Fila  11  Columna  1  Color en Hex:  F\n",
            "Fila  11  Columna  2  Color en Hex:  F\n",
            "Fila  11  Columna  3  Color en Hex:  F\n",
            "Fila  11  Columna  4  Color en Hex:  7\n",
            "Fila  11  Columna  5  Color en Hex:  7\n",
            "Fila  11  Columna  6  Color en Hex:  7\n",
            "Fila  11  Columna  7  Color en Hex:  7\n",
            "Fila  11  Columna  8  Color en Hex:  7\n",
            "Fila  11  Columna  9  Color en Hex:  7\n",
            "Fila  11  Columna  10  Color en Hex:  7\n",
            "Fila  11  Columna  11  Color en Hex:  7\n",
            "Fila  11  Columna  12  Color en Hex:  F\n",
            "Fila  11  Columna  13  Color en Hex:  F\n",
            "Fila  11  Columna  14  Color en Hex:  F\n",
            "Fila  11  Columna  15  Color en Hex:  F\n",
            "Fila  12  Columna  0  Color en Hex:  F\n",
            "Fila  12  Columna  1  Color en Hex:  F\n",
            "Fila  12  Columna  2  Color en Hex:  0\n",
            "Fila  12  Columna  3  Color en Hex:  0\n",
            "Fila  12  Columna  4  Color en Hex:  7\n",
            "Fila  12  Columna  5  Color en Hex:  7\n",
            "Fila  12  Columna  6  Color en Hex:  7\n",
            "Fila  12  Columna  7  Color en Hex:  7\n",
            "Fila  12  Columna  8  Color en Hex:  7\n",
            "Fila  12  Columna  9  Color en Hex:  7\n",
            "Fila  12  Columna  10  Color en Hex:  7\n",
            "Fila  12  Columna  11  Color en Hex:  7\n",
            "Fila  12  Columna  12  Color en Hex:  0\n",
            "Fila  12  Columna  13  Color en Hex:  0\n",
            "Fila  12  Columna  14  Color en Hex:  F\n",
            "Fila  12  Columna  15  Color en Hex:  F\n",
            "Fila  13  Columna  0  Color en Hex:  F\n",
            "Fila  13  Columna  1  Color en Hex:  0\n",
            "Fila  13  Columna  2  Color en Hex:  0\n",
            "Fila  13  Columna  3  Color en Hex:  0\n",
            "Fila  13  Columna  4  Color en Hex:  0\n",
            "Fila  13  Columna  5  Color en Hex:  0\n",
            "Fila  13  Columna  6  Color en Hex:  7\n",
            "Fila  13  Columna  7  Color en Hex:  7\n",
            "Fila  13  Columna  8  Color en Hex:  7\n",
            "Fila  13  Columna  9  Color en Hex:  7\n",
            "Fila  13  Columna  10  Color en Hex:  0\n",
            "Fila  13  Columna  11  Color en Hex:  0\n",
            "Fila  13  Columna  12  Color en Hex:  0\n",
            "Fila  13  Columna  13  Color en Hex:  0\n",
            "Fila  13  Columna  14  Color en Hex:  0\n",
            "Fila  13  Columna  15  Color en Hex:  F\n",
            "Fila  14  Columna  0  Color en Hex:  F\n",
            "Fila  14  Columna  1  Color en Hex:  0\n",
            "Fila  14  Columna  2  Color en Hex:  0\n",
            "Fila  14  Columna  3  Color en Hex:  0\n",
            "Fila  14  Columna  4  Color en Hex:  0\n",
            "Fila  14  Columna  5  Color en Hex:  0\n",
            "Fila  14  Columna  6  Color en Hex:  0\n",
            "Fila  14  Columna  7  Color en Hex:  7\n",
            "Fila  14  Columna  8  Color en Hex:  7\n",
            "Fila  14  Columna  9  Color en Hex:  0\n",
            "Fila  14  Columna  10  Color en Hex:  0\n",
            "Fila  14  Columna  11  Color en Hex:  0\n",
            "Fila  14  Columna  12  Color en Hex:  0\n",
            "Fila  14  Columna  13  Color en Hex:  0\n",
            "Fila  14  Columna  14  Color en Hex:  0\n",
            "Fila  14  Columna  15  Color en Hex:  F\n",
            "Fila  15  Columna  0  Color en Hex:  F\n",
            "Fila  15  Columna  1  Color en Hex:  F\n",
            "Fila  15  Columna  2  Color en Hex:  0\n",
            "Fila  15  Columna  3  Color en Hex:  0\n",
            "Fila  15  Columna  4  Color en Hex:  0\n",
            "Fila  15  Columna  5  Color en Hex:  0\n",
            "Fila  15  Columna  6  Color en Hex:  0\n",
            "Fila  15  Columna  7  Color en Hex:  F\n",
            "Fila  15  Columna  8  Color en Hex:  F\n",
            "Fila  15  Columna  9  Color en Hex:  0\n",
            "Fila  15  Columna  10  Color en Hex:  0\n",
            "Fila  15  Columna  11  Color en Hex:  0\n",
            "Fila  15  Columna  12  Color en Hex:  0\n",
            "Fila  15  Columna  13  Color en Hex:  0\n",
            "Fila  15  Columna  14  Color en Hex:  F\n",
            "Fila  15  Columna  15  Color en Hex:  F\n"
          ]
        }
      ]
    },
    {
      "cell_type": "markdown",
      "source": [
        "De igual forma que lo hicimos anteriormente, creamos una variable para guardar este formato simplicado"
      ],
      "metadata": {
        "id": "wQXvvSnYjN_5"
      }
    },
    {
      "cell_type": "code",
      "source": [
        "simpleHexdata = \"\""
      ],
      "metadata": {
        "id": "dy3xkCAGjUkd"
      },
      "execution_count": null,
      "outputs": []
    },
    {
      "cell_type": "markdown",
      "source": [
        "E imprimimos el valor de la variable simplicada"
      ],
      "metadata": {
        "id": "4in4d7VjjYac"
      }
    },
    {
      "cell_type": "code",
      "source": [
        "for x in range(16):      # this row\n",
        "    for y in range(16):   # and this row was exchanged\n",
        "        simpleHexdata += fhex_to_whex(rgb_to_hex((img[x,y][2]), (img[x,y][1]), (img[x,y][0])))\n",
        "\n",
        "print(simpleHexdata)"
      ],
      "metadata": {
        "colab": {
          "base_uri": "https://localhost:8080/"
        },
        "id": "aphmQw58jcsY",
        "outputId": "7f499730-544a-49f9-9f18-651bb9225567"
      },
      "execution_count": null,
      "outputs": [
        {
          "output_type": "stream",
          "name": "stdout",
          "text": [
            "FFFFFF6666FFFFFFFFFFF666666FFFFFFFFF66666666FFFFFFF6666666666FFFFF600666666006FFF66670666607666FF66670000007666F666670766707666666667776677766666666666666666666F66667777776666FFFFF77777777FFFFFF007777777700FFF00000777700000FF00000077000000FFF00000FF00000FF\n"
          ]
        }
      ]
    },
    {
      "cell_type": "markdown",
      "source": [
        "De igual manera, tambien realizamos el proceso para mostrar el nombre del color, en lugar de su codigo en hexadecimal, con el metodo que se muestra a continuacion"
      ],
      "metadata": {
        "id": "0niBbPFPjgD8"
      }
    },
    {
      "cell_type": "code",
      "source": [
        "def hex_to_ncolor(str):\n",
        "    if str == \"#000000\": #black\n",
        "        return \"Negro\"\n",
        "    if str == \"#0000aa\": #dark_blue\n",
        "        return \"Azul oscuro\"\n",
        "    if str == \"#00aa00\": #dark_green\n",
        "        return \"Verde oscuro\"\n",
        "    if str == \"#00aaaa\": #dark_cyan\n",
        "        return \"Cyan oscuro\"\n",
        "    if str == \"#aa0000\": #dark_red\n",
        "        return \"Rojo\"\n",
        "    if str == \"#aa00aa\": #dark_magenta\n",
        "        return \"Magenta\"\n",
        "    if str == \"#aa5500\": #brown\n",
        "        return \"Cafe\"\n",
        "    if str == \"#aaaaaa\": #light_gray\n",
        "        return \"Gris claro\"\n",
        "    if str == \"#555555\": #dark_gray\n",
        "        return \"Gris oscuro\"\n",
        "    if str == \"#5555ff\": #light_blue\n",
        "        return \"Azul claro\"\n",
        "    if str == \"#55ff55\": #light_green\n",
        "        return \"Verde claro\"\n",
        "    if str == \"#55ffff\": #light_cyan\n",
        "        return \"Cyan claro\"\n",
        "    if str == \"#ff5555\": #light_red\n",
        "        return \"Rosa\"\n",
        "    if str == \"#ff55ff\": #light_magenta\n",
        "        return \"Magenta claro\"\n",
        "    if str == \"#ffff55\": #yellow\n",
        "        return \"Amarillo\"\n",
        "    if str == \"#ffffff\": #white\n",
        "        return \"Blanco\""
      ],
      "metadata": {
        "id": "gokCot3Ujpb0"
      },
      "execution_count": null,
      "outputs": []
    },
    {
      "cell_type": "markdown",
      "source": [
        "Realizamos la impresion de los resultados, pero ahora mostrando el nombre del color de cada pixel"
      ],
      "metadata": {
        "id": "A73SQhJdjsyD"
      }
    },
    {
      "cell_type": "code",
      "source": [
        "for x in range(16):      # this row\n",
        "    for y in range(16):   # and this row was exchanged\n",
        "        print(\"Fila \", + x, \" Columna \", + y, \" Color en Hex: \", hex_to_ncolor(rgb_to_hex((img[x,y][2]), (img[x,y][1]), (img[x,y][0]))))"
      ],
      "metadata": {
        "colab": {
          "base_uri": "https://localhost:8080/"
        },
        "id": "B5OouTsTj0Qy",
        "outputId": "45c7f5f2-2c09-4c53-8823-c32edb2c0253"
      },
      "execution_count": null,
      "outputs": [
        {
          "output_type": "stream",
          "name": "stdout",
          "text": [
            "Fila  0  Columna  0  Color en Hex:  Blanco\n",
            "Fila  0  Columna  1  Color en Hex:  Blanco\n",
            "Fila  0  Columna  2  Color en Hex:  Blanco\n",
            "Fila  0  Columna  3  Color en Hex:  Blanco\n",
            "Fila  0  Columna  4  Color en Hex:  Blanco\n",
            "Fila  0  Columna  5  Color en Hex:  Blanco\n",
            "Fila  0  Columna  6  Color en Hex:  Cafe\n",
            "Fila  0  Columna  7  Color en Hex:  Cafe\n",
            "Fila  0  Columna  8  Color en Hex:  Cafe\n",
            "Fila  0  Columna  9  Color en Hex:  Cafe\n",
            "Fila  0  Columna  10  Color en Hex:  Blanco\n",
            "Fila  0  Columna  11  Color en Hex:  Blanco\n",
            "Fila  0  Columna  12  Color en Hex:  Blanco\n",
            "Fila  0  Columna  13  Color en Hex:  Blanco\n",
            "Fila  0  Columna  14  Color en Hex:  Blanco\n",
            "Fila  0  Columna  15  Color en Hex:  Blanco\n",
            "Fila  1  Columna  0  Color en Hex:  Blanco\n",
            "Fila  1  Columna  1  Color en Hex:  Blanco\n",
            "Fila  1  Columna  2  Color en Hex:  Blanco\n",
            "Fila  1  Columna  3  Color en Hex:  Blanco\n",
            "Fila  1  Columna  4  Color en Hex:  Blanco\n",
            "Fila  1  Columna  5  Color en Hex:  Cafe\n",
            "Fila  1  Columna  6  Color en Hex:  Cafe\n",
            "Fila  1  Columna  7  Color en Hex:  Cafe\n",
            "Fila  1  Columna  8  Color en Hex:  Cafe\n",
            "Fila  1  Columna  9  Color en Hex:  Cafe\n",
            "Fila  1  Columna  10  Color en Hex:  Cafe\n",
            "Fila  1  Columna  11  Color en Hex:  Blanco\n",
            "Fila  1  Columna  12  Color en Hex:  Blanco\n",
            "Fila  1  Columna  13  Color en Hex:  Blanco\n",
            "Fila  1  Columna  14  Color en Hex:  Blanco\n",
            "Fila  1  Columna  15  Color en Hex:  Blanco\n",
            "Fila  2  Columna  0  Color en Hex:  Blanco\n",
            "Fila  2  Columna  1  Color en Hex:  Blanco\n",
            "Fila  2  Columna  2  Color en Hex:  Blanco\n",
            "Fila  2  Columna  3  Color en Hex:  Blanco\n",
            "Fila  2  Columna  4  Color en Hex:  Cafe\n",
            "Fila  2  Columna  5  Color en Hex:  Cafe\n",
            "Fila  2  Columna  6  Color en Hex:  Cafe\n",
            "Fila  2  Columna  7  Color en Hex:  Cafe\n",
            "Fila  2  Columna  8  Color en Hex:  Cafe\n",
            "Fila  2  Columna  9  Color en Hex:  Cafe\n",
            "Fila  2  Columna  10  Color en Hex:  Cafe\n",
            "Fila  2  Columna  11  Color en Hex:  Cafe\n",
            "Fila  2  Columna  12  Color en Hex:  Blanco\n",
            "Fila  2  Columna  13  Color en Hex:  Blanco\n",
            "Fila  2  Columna  14  Color en Hex:  Blanco\n",
            "Fila  2  Columna  15  Color en Hex:  Blanco\n",
            "Fila  3  Columna  0  Color en Hex:  Blanco\n",
            "Fila  3  Columna  1  Color en Hex:  Blanco\n",
            "Fila  3  Columna  2  Color en Hex:  Blanco\n",
            "Fila  3  Columna  3  Color en Hex:  Cafe\n",
            "Fila  3  Columna  4  Color en Hex:  Cafe\n",
            "Fila  3  Columna  5  Color en Hex:  Cafe\n",
            "Fila  3  Columna  6  Color en Hex:  Cafe\n",
            "Fila  3  Columna  7  Color en Hex:  Cafe\n",
            "Fila  3  Columna  8  Color en Hex:  Cafe\n",
            "Fila  3  Columna  9  Color en Hex:  Cafe\n",
            "Fila  3  Columna  10  Color en Hex:  Cafe\n",
            "Fila  3  Columna  11  Color en Hex:  Cafe\n",
            "Fila  3  Columna  12  Color en Hex:  Cafe\n",
            "Fila  3  Columna  13  Color en Hex:  Blanco\n",
            "Fila  3  Columna  14  Color en Hex:  Blanco\n",
            "Fila  3  Columna  15  Color en Hex:  Blanco\n",
            "Fila  4  Columna  0  Color en Hex:  Blanco\n",
            "Fila  4  Columna  1  Color en Hex:  Blanco\n",
            "Fila  4  Columna  2  Color en Hex:  Cafe\n",
            "Fila  4  Columna  3  Color en Hex:  Negro\n",
            "Fila  4  Columna  4  Color en Hex:  Negro\n",
            "Fila  4  Columna  5  Color en Hex:  Cafe\n",
            "Fila  4  Columna  6  Color en Hex:  Cafe\n",
            "Fila  4  Columna  7  Color en Hex:  Cafe\n",
            "Fila  4  Columna  8  Color en Hex:  Cafe\n",
            "Fila  4  Columna  9  Color en Hex:  Cafe\n",
            "Fila  4  Columna  10  Color en Hex:  Cafe\n",
            "Fila  4  Columna  11  Color en Hex:  Negro\n",
            "Fila  4  Columna  12  Color en Hex:  Negro\n",
            "Fila  4  Columna  13  Color en Hex:  Cafe\n",
            "Fila  4  Columna  14  Color en Hex:  Blanco\n",
            "Fila  4  Columna  15  Color en Hex:  Blanco\n",
            "Fila  5  Columna  0  Color en Hex:  Blanco\n",
            "Fila  5  Columna  1  Color en Hex:  Cafe\n",
            "Fila  5  Columna  2  Color en Hex:  Cafe\n",
            "Fila  5  Columna  3  Color en Hex:  Cafe\n",
            "Fila  5  Columna  4  Color en Hex:  Gris claro\n",
            "Fila  5  Columna  5  Color en Hex:  Negro\n",
            "Fila  5  Columna  6  Color en Hex:  Cafe\n",
            "Fila  5  Columna  7  Color en Hex:  Cafe\n",
            "Fila  5  Columna  8  Color en Hex:  Cafe\n",
            "Fila  5  Columna  9  Color en Hex:  Cafe\n",
            "Fila  5  Columna  10  Color en Hex:  Negro\n",
            "Fila  5  Columna  11  Color en Hex:  Gris claro\n",
            "Fila  5  Columna  12  Color en Hex:  Cafe\n",
            "Fila  5  Columna  13  Color en Hex:  Cafe\n",
            "Fila  5  Columna  14  Color en Hex:  Cafe\n",
            "Fila  5  Columna  15  Color en Hex:  Blanco\n",
            "Fila  6  Columna  0  Color en Hex:  Blanco\n",
            "Fila  6  Columna  1  Color en Hex:  Cafe\n",
            "Fila  6  Columna  2  Color en Hex:  Cafe\n",
            "Fila  6  Columna  3  Color en Hex:  Cafe\n",
            "Fila  6  Columna  4  Color en Hex:  Gris claro\n",
            "Fila  6  Columna  5  Color en Hex:  Negro\n",
            "Fila  6  Columna  6  Color en Hex:  Negro\n",
            "Fila  6  Columna  7  Color en Hex:  Negro\n",
            "Fila  6  Columna  8  Color en Hex:  Negro\n",
            "Fila  6  Columna  9  Color en Hex:  Negro\n",
            "Fila  6  Columna  10  Color en Hex:  Negro\n",
            "Fila  6  Columna  11  Color en Hex:  Gris claro\n",
            "Fila  6  Columna  12  Color en Hex:  Cafe\n",
            "Fila  6  Columna  13  Color en Hex:  Cafe\n",
            "Fila  6  Columna  14  Color en Hex:  Cafe\n",
            "Fila  6  Columna  15  Color en Hex:  Blanco\n",
            "Fila  7  Columna  0  Color en Hex:  Cafe\n",
            "Fila  7  Columna  1  Color en Hex:  Cafe\n",
            "Fila  7  Columna  2  Color en Hex:  Cafe\n",
            "Fila  7  Columna  3  Color en Hex:  Cafe\n",
            "Fila  7  Columna  4  Color en Hex:  Gris claro\n",
            "Fila  7  Columna  5  Color en Hex:  Negro\n",
            "Fila  7  Columna  6  Color en Hex:  Gris claro\n",
            "Fila  7  Columna  7  Color en Hex:  Cafe\n",
            "Fila  7  Columna  8  Color en Hex:  Cafe\n",
            "Fila  7  Columna  9  Color en Hex:  Gris claro\n",
            "Fila  7  Columna  10  Color en Hex:  Negro\n",
            "Fila  7  Columna  11  Color en Hex:  Gris claro\n",
            "Fila  7  Columna  12  Color en Hex:  Cafe\n",
            "Fila  7  Columna  13  Color en Hex:  Cafe\n",
            "Fila  7  Columna  14  Color en Hex:  Cafe\n",
            "Fila  7  Columna  15  Color en Hex:  Cafe\n",
            "Fila  8  Columna  0  Color en Hex:  Cafe\n",
            "Fila  8  Columna  1  Color en Hex:  Cafe\n",
            "Fila  8  Columna  2  Color en Hex:  Cafe\n",
            "Fila  8  Columna  3  Color en Hex:  Cafe\n",
            "Fila  8  Columna  4  Color en Hex:  Gris claro\n",
            "Fila  8  Columna  5  Color en Hex:  Gris claro\n",
            "Fila  8  Columna  6  Color en Hex:  Gris claro\n",
            "Fila  8  Columna  7  Color en Hex:  Cafe\n",
            "Fila  8  Columna  8  Color en Hex:  Cafe\n",
            "Fila  8  Columna  9  Color en Hex:  Gris claro\n",
            "Fila  8  Columna  10  Color en Hex:  Gris claro\n",
            "Fila  8  Columna  11  Color en Hex:  Gris claro\n",
            "Fila  8  Columna  12  Color en Hex:  Cafe\n",
            "Fila  8  Columna  13  Color en Hex:  Cafe\n",
            "Fila  8  Columna  14  Color en Hex:  Cafe\n",
            "Fila  8  Columna  15  Color en Hex:  Cafe\n",
            "Fila  9  Columna  0  Color en Hex:  Cafe\n",
            "Fila  9  Columna  1  Color en Hex:  Cafe\n",
            "Fila  9  Columna  2  Color en Hex:  Cafe\n",
            "Fila  9  Columna  3  Color en Hex:  Cafe\n",
            "Fila  9  Columna  4  Color en Hex:  Cafe\n",
            "Fila  9  Columna  5  Color en Hex:  Cafe\n",
            "Fila  9  Columna  6  Color en Hex:  Cafe\n",
            "Fila  9  Columna  7  Color en Hex:  Cafe\n",
            "Fila  9  Columna  8  Color en Hex:  Cafe\n",
            "Fila  9  Columna  9  Color en Hex:  Cafe\n",
            "Fila  9  Columna  10  Color en Hex:  Cafe\n",
            "Fila  9  Columna  11  Color en Hex:  Cafe\n",
            "Fila  9  Columna  12  Color en Hex:  Cafe\n",
            "Fila  9  Columna  13  Color en Hex:  Cafe\n",
            "Fila  9  Columna  14  Color en Hex:  Cafe\n",
            "Fila  9  Columna  15  Color en Hex:  Cafe\n",
            "Fila  10  Columna  0  Color en Hex:  Blanco\n",
            "Fila  10  Columna  1  Color en Hex:  Cafe\n",
            "Fila  10  Columna  2  Color en Hex:  Cafe\n",
            "Fila  10  Columna  3  Color en Hex:  Cafe\n",
            "Fila  10  Columna  4  Color en Hex:  Cafe\n",
            "Fila  10  Columna  5  Color en Hex:  Gris claro\n",
            "Fila  10  Columna  6  Color en Hex:  Gris claro\n",
            "Fila  10  Columna  7  Color en Hex:  Gris claro\n",
            "Fila  10  Columna  8  Color en Hex:  Gris claro\n",
            "Fila  10  Columna  9  Color en Hex:  Gris claro\n",
            "Fila  10  Columna  10  Color en Hex:  Gris claro\n",
            "Fila  10  Columna  11  Color en Hex:  Cafe\n",
            "Fila  10  Columna  12  Color en Hex:  Cafe\n",
            "Fila  10  Columna  13  Color en Hex:  Cafe\n",
            "Fila  10  Columna  14  Color en Hex:  Cafe\n",
            "Fila  10  Columna  15  Color en Hex:  Blanco\n",
            "Fila  11  Columna  0  Color en Hex:  Blanco\n",
            "Fila  11  Columna  1  Color en Hex:  Blanco\n",
            "Fila  11  Columna  2  Color en Hex:  Blanco\n",
            "Fila  11  Columna  3  Color en Hex:  Blanco\n",
            "Fila  11  Columna  4  Color en Hex:  Gris claro\n",
            "Fila  11  Columna  5  Color en Hex:  Gris claro\n",
            "Fila  11  Columna  6  Color en Hex:  Gris claro\n",
            "Fila  11  Columna  7  Color en Hex:  Gris claro\n",
            "Fila  11  Columna  8  Color en Hex:  Gris claro\n",
            "Fila  11  Columna  9  Color en Hex:  Gris claro\n",
            "Fila  11  Columna  10  Color en Hex:  Gris claro\n",
            "Fila  11  Columna  11  Color en Hex:  Gris claro\n",
            "Fila  11  Columna  12  Color en Hex:  Blanco\n",
            "Fila  11  Columna  13  Color en Hex:  Blanco\n",
            "Fila  11  Columna  14  Color en Hex:  Blanco\n",
            "Fila  11  Columna  15  Color en Hex:  Blanco\n",
            "Fila  12  Columna  0  Color en Hex:  Blanco\n",
            "Fila  12  Columna  1  Color en Hex:  Blanco\n",
            "Fila  12  Columna  2  Color en Hex:  Negro\n",
            "Fila  12  Columna  3  Color en Hex:  Negro\n",
            "Fila  12  Columna  4  Color en Hex:  Gris claro\n",
            "Fila  12  Columna  5  Color en Hex:  Gris claro\n",
            "Fila  12  Columna  6  Color en Hex:  Gris claro\n",
            "Fila  12  Columna  7  Color en Hex:  Gris claro\n",
            "Fila  12  Columna  8  Color en Hex:  Gris claro\n",
            "Fila  12  Columna  9  Color en Hex:  Gris claro\n",
            "Fila  12  Columna  10  Color en Hex:  Gris claro\n",
            "Fila  12  Columna  11  Color en Hex:  Gris claro\n",
            "Fila  12  Columna  12  Color en Hex:  Negro\n",
            "Fila  12  Columna  13  Color en Hex:  Negro\n",
            "Fila  12  Columna  14  Color en Hex:  Blanco\n",
            "Fila  12  Columna  15  Color en Hex:  Blanco\n",
            "Fila  13  Columna  0  Color en Hex:  Blanco\n",
            "Fila  13  Columna  1  Color en Hex:  Negro\n",
            "Fila  13  Columna  2  Color en Hex:  Negro\n",
            "Fila  13  Columna  3  Color en Hex:  Negro\n",
            "Fila  13  Columna  4  Color en Hex:  Negro\n",
            "Fila  13  Columna  5  Color en Hex:  Negro\n",
            "Fila  13  Columna  6  Color en Hex:  Gris claro\n",
            "Fila  13  Columna  7  Color en Hex:  Gris claro\n",
            "Fila  13  Columna  8  Color en Hex:  Gris claro\n",
            "Fila  13  Columna  9  Color en Hex:  Gris claro\n",
            "Fila  13  Columna  10  Color en Hex:  Negro\n",
            "Fila  13  Columna  11  Color en Hex:  Negro\n",
            "Fila  13  Columna  12  Color en Hex:  Negro\n",
            "Fila  13  Columna  13  Color en Hex:  Negro\n",
            "Fila  13  Columna  14  Color en Hex:  Negro\n",
            "Fila  13  Columna  15  Color en Hex:  Blanco\n",
            "Fila  14  Columna  0  Color en Hex:  Blanco\n",
            "Fila  14  Columna  1  Color en Hex:  Negro\n",
            "Fila  14  Columna  2  Color en Hex:  Negro\n",
            "Fila  14  Columna  3  Color en Hex:  Negro\n",
            "Fila  14  Columna  4  Color en Hex:  Negro\n",
            "Fila  14  Columna  5  Color en Hex:  Negro\n",
            "Fila  14  Columna  6  Color en Hex:  Negro\n",
            "Fila  14  Columna  7  Color en Hex:  Gris claro\n",
            "Fila  14  Columna  8  Color en Hex:  Gris claro\n",
            "Fila  14  Columna  9  Color en Hex:  Negro\n",
            "Fila  14  Columna  10  Color en Hex:  Negro\n",
            "Fila  14  Columna  11  Color en Hex:  Negro\n",
            "Fila  14  Columna  12  Color en Hex:  Negro\n",
            "Fila  14  Columna  13  Color en Hex:  Negro\n",
            "Fila  14  Columna  14  Color en Hex:  Negro\n",
            "Fila  14  Columna  15  Color en Hex:  Blanco\n",
            "Fila  15  Columna  0  Color en Hex:  Blanco\n",
            "Fila  15  Columna  1  Color en Hex:  Blanco\n",
            "Fila  15  Columna  2  Color en Hex:  Negro\n",
            "Fila  15  Columna  3  Color en Hex:  Negro\n",
            "Fila  15  Columna  4  Color en Hex:  Negro\n",
            "Fila  15  Columna  5  Color en Hex:  Negro\n",
            "Fila  15  Columna  6  Color en Hex:  Negro\n",
            "Fila  15  Columna  7  Color en Hex:  Blanco\n",
            "Fila  15  Columna  8  Color en Hex:  Blanco\n",
            "Fila  15  Columna  9  Color en Hex:  Negro\n",
            "Fila  15  Columna  10  Color en Hex:  Negro\n",
            "Fila  15  Columna  11  Color en Hex:  Negro\n",
            "Fila  15  Columna  12  Color en Hex:  Negro\n",
            "Fila  15  Columna  13  Color en Hex:  Negro\n",
            "Fila  15  Columna  14  Color en Hex:  Blanco\n",
            "Fila  15  Columna  15  Color en Hex:  Blanco\n"
          ]
        }
      ]
    },
    {
      "cell_type": "markdown",
      "source": [
        "De igual forma, tambien obtenemos el nibble del codigo en hexadecimal perteneciente a cada pixel, con el siguiente metodo:"
      ],
      "metadata": {
        "id": "66Qg7xy0j3oo"
      }
    },
    {
      "cell_type": "code",
      "source": [
        "def hex_to_nibble(str):\n",
        "    if str == \"#000000\": #black\n",
        "        return \"0000\"\n",
        "    if str == \"#0000aa\": #dark_blue\n",
        "        return \"0001\"\n",
        "    if str == \"#00aa00\": #dark_green\n",
        "        return \"0010\"\n",
        "    if str == \"#00aaaa\": #dark_cyan\n",
        "        return \"0011\"\n",
        "    if str == \"#aa0000\": #dark_red\n",
        "        return \"0100\"\n",
        "    if str == \"#aa00aa\": #dark_magenta\n",
        "        return \"0101\"\n",
        "    if str == \"#aa5500\": #brown\n",
        "        return \"0110\"\n",
        "    if str == \"#aaaaaa\": #light_gray\n",
        "        return \"0111\"\n",
        "    if str == \"#555555\": #dark_gray\n",
        "        return \"1000\"\n",
        "    if str == \"#5555ff\": #light_blue\n",
        "        return \"1001\"\n",
        "    if str == \"#55ff55\": #light_green\n",
        "        return \"1010\"\n",
        "    if str == \"#55ffff\": #light_cyan\n",
        "        return \"1011\"\n",
        "    if str == \"#ff5555\": #light_red\n",
        "        return \"1100\"\n",
        "    if str == \"#ff55ff\": #light_magenta\n",
        "        return \"1101\"\n",
        "    if str == \"#ffff55\": #yellow\n",
        "        return \"1110\"\n",
        "    if str == \"#ffffff\": #white\n",
        "        return \"1111\""
      ],
      "metadata": {
        "id": "Sg1t1Pogj3Lh"
      },
      "execution_count": null,
      "outputs": []
    },
    {
      "cell_type": "markdown",
      "source": [
        "Realizamos la impresion de los nibbles"
      ],
      "metadata": {
        "id": "CZsawY-JkMrP"
      }
    },
    {
      "cell_type": "code",
      "source": [
        "for x in range(16):      # this row\n",
        "    for y in range(16):   # and this row was exchanged\n",
        "        print(\"Fila \", + x, \" Columna \", + y, \" Color en Hex: \", hex_to_nibble(rgb_to_hex((img[x,y][2]), (img[x,y][1]), (img[x,y][0]))))"
      ],
      "metadata": {
        "colab": {
          "base_uri": "https://localhost:8080/"
        },
        "id": "lDvslzJmkMLf",
        "outputId": "437b7bf9-5515-4433-cb02-e9aaac72136f"
      },
      "execution_count": null,
      "outputs": [
        {
          "output_type": "stream",
          "name": "stdout",
          "text": [
            "Fila  0  Columna  0  Color en Hex:  1111\n",
            "Fila  0  Columna  1  Color en Hex:  1111\n",
            "Fila  0  Columna  2  Color en Hex:  1111\n",
            "Fila  0  Columna  3  Color en Hex:  1111\n",
            "Fila  0  Columna  4  Color en Hex:  1111\n",
            "Fila  0  Columna  5  Color en Hex:  1111\n",
            "Fila  0  Columna  6  Color en Hex:  0110\n",
            "Fila  0  Columna  7  Color en Hex:  0110\n",
            "Fila  0  Columna  8  Color en Hex:  0110\n",
            "Fila  0  Columna  9  Color en Hex:  0110\n",
            "Fila  0  Columna  10  Color en Hex:  1111\n",
            "Fila  0  Columna  11  Color en Hex:  1111\n",
            "Fila  0  Columna  12  Color en Hex:  1111\n",
            "Fila  0  Columna  13  Color en Hex:  1111\n",
            "Fila  0  Columna  14  Color en Hex:  1111\n",
            "Fila  0  Columna  15  Color en Hex:  1111\n",
            "Fila  1  Columna  0  Color en Hex:  1111\n",
            "Fila  1  Columna  1  Color en Hex:  1111\n",
            "Fila  1  Columna  2  Color en Hex:  1111\n",
            "Fila  1  Columna  3  Color en Hex:  1111\n",
            "Fila  1  Columna  4  Color en Hex:  1111\n",
            "Fila  1  Columna  5  Color en Hex:  0110\n",
            "Fila  1  Columna  6  Color en Hex:  0110\n",
            "Fila  1  Columna  7  Color en Hex:  0110\n",
            "Fila  1  Columna  8  Color en Hex:  0110\n",
            "Fila  1  Columna  9  Color en Hex:  0110\n",
            "Fila  1  Columna  10  Color en Hex:  0110\n",
            "Fila  1  Columna  11  Color en Hex:  1111\n",
            "Fila  1  Columna  12  Color en Hex:  1111\n",
            "Fila  1  Columna  13  Color en Hex:  1111\n",
            "Fila  1  Columna  14  Color en Hex:  1111\n",
            "Fila  1  Columna  15  Color en Hex:  1111\n",
            "Fila  2  Columna  0  Color en Hex:  1111\n",
            "Fila  2  Columna  1  Color en Hex:  1111\n",
            "Fila  2  Columna  2  Color en Hex:  1111\n",
            "Fila  2  Columna  3  Color en Hex:  1111\n",
            "Fila  2  Columna  4  Color en Hex:  0110\n",
            "Fila  2  Columna  5  Color en Hex:  0110\n",
            "Fila  2  Columna  6  Color en Hex:  0110\n",
            "Fila  2  Columna  7  Color en Hex:  0110\n",
            "Fila  2  Columna  8  Color en Hex:  0110\n",
            "Fila  2  Columna  9  Color en Hex:  0110\n",
            "Fila  2  Columna  10  Color en Hex:  0110\n",
            "Fila  2  Columna  11  Color en Hex:  0110\n",
            "Fila  2  Columna  12  Color en Hex:  1111\n",
            "Fila  2  Columna  13  Color en Hex:  1111\n",
            "Fila  2  Columna  14  Color en Hex:  1111\n",
            "Fila  2  Columna  15  Color en Hex:  1111\n",
            "Fila  3  Columna  0  Color en Hex:  1111\n",
            "Fila  3  Columna  1  Color en Hex:  1111\n",
            "Fila  3  Columna  2  Color en Hex:  1111\n",
            "Fila  3  Columna  3  Color en Hex:  0110\n",
            "Fila  3  Columna  4  Color en Hex:  0110\n",
            "Fila  3  Columna  5  Color en Hex:  0110\n",
            "Fila  3  Columna  6  Color en Hex:  0110\n",
            "Fila  3  Columna  7  Color en Hex:  0110\n",
            "Fila  3  Columna  8  Color en Hex:  0110\n",
            "Fila  3  Columna  9  Color en Hex:  0110\n",
            "Fila  3  Columna  10  Color en Hex:  0110\n",
            "Fila  3  Columna  11  Color en Hex:  0110\n",
            "Fila  3  Columna  12  Color en Hex:  0110\n",
            "Fila  3  Columna  13  Color en Hex:  1111\n",
            "Fila  3  Columna  14  Color en Hex:  1111\n",
            "Fila  3  Columna  15  Color en Hex:  1111\n",
            "Fila  4  Columna  0  Color en Hex:  1111\n",
            "Fila  4  Columna  1  Color en Hex:  1111\n",
            "Fila  4  Columna  2  Color en Hex:  0110\n",
            "Fila  4  Columna  3  Color en Hex:  0000\n",
            "Fila  4  Columna  4  Color en Hex:  0000\n",
            "Fila  4  Columna  5  Color en Hex:  0110\n",
            "Fila  4  Columna  6  Color en Hex:  0110\n",
            "Fila  4  Columna  7  Color en Hex:  0110\n",
            "Fila  4  Columna  8  Color en Hex:  0110\n",
            "Fila  4  Columna  9  Color en Hex:  0110\n",
            "Fila  4  Columna  10  Color en Hex:  0110\n",
            "Fila  4  Columna  11  Color en Hex:  0000\n",
            "Fila  4  Columna  12  Color en Hex:  0000\n",
            "Fila  4  Columna  13  Color en Hex:  0110\n",
            "Fila  4  Columna  14  Color en Hex:  1111\n",
            "Fila  4  Columna  15  Color en Hex:  1111\n",
            "Fila  5  Columna  0  Color en Hex:  1111\n",
            "Fila  5  Columna  1  Color en Hex:  0110\n",
            "Fila  5  Columna  2  Color en Hex:  0110\n",
            "Fila  5  Columna  3  Color en Hex:  0110\n",
            "Fila  5  Columna  4  Color en Hex:  0111\n",
            "Fila  5  Columna  5  Color en Hex:  0000\n",
            "Fila  5  Columna  6  Color en Hex:  0110\n",
            "Fila  5  Columna  7  Color en Hex:  0110\n",
            "Fila  5  Columna  8  Color en Hex:  0110\n",
            "Fila  5  Columna  9  Color en Hex:  0110\n",
            "Fila  5  Columna  10  Color en Hex:  0000\n",
            "Fila  5  Columna  11  Color en Hex:  0111\n",
            "Fila  5  Columna  12  Color en Hex:  0110\n",
            "Fila  5  Columna  13  Color en Hex:  0110\n",
            "Fila  5  Columna  14  Color en Hex:  0110\n",
            "Fila  5  Columna  15  Color en Hex:  1111\n",
            "Fila  6  Columna  0  Color en Hex:  1111\n",
            "Fila  6  Columna  1  Color en Hex:  0110\n",
            "Fila  6  Columna  2  Color en Hex:  0110\n",
            "Fila  6  Columna  3  Color en Hex:  0110\n",
            "Fila  6  Columna  4  Color en Hex:  0111\n",
            "Fila  6  Columna  5  Color en Hex:  0000\n",
            "Fila  6  Columna  6  Color en Hex:  0000\n",
            "Fila  6  Columna  7  Color en Hex:  0000\n",
            "Fila  6  Columna  8  Color en Hex:  0000\n",
            "Fila  6  Columna  9  Color en Hex:  0000\n",
            "Fila  6  Columna  10  Color en Hex:  0000\n",
            "Fila  6  Columna  11  Color en Hex:  0111\n",
            "Fila  6  Columna  12  Color en Hex:  0110\n",
            "Fila  6  Columna  13  Color en Hex:  0110\n",
            "Fila  6  Columna  14  Color en Hex:  0110\n",
            "Fila  6  Columna  15  Color en Hex:  1111\n",
            "Fila  7  Columna  0  Color en Hex:  0110\n",
            "Fila  7  Columna  1  Color en Hex:  0110\n",
            "Fila  7  Columna  2  Color en Hex:  0110\n",
            "Fila  7  Columna  3  Color en Hex:  0110\n",
            "Fila  7  Columna  4  Color en Hex:  0111\n",
            "Fila  7  Columna  5  Color en Hex:  0000\n",
            "Fila  7  Columna  6  Color en Hex:  0111\n",
            "Fila  7  Columna  7  Color en Hex:  0110\n",
            "Fila  7  Columna  8  Color en Hex:  0110\n",
            "Fila  7  Columna  9  Color en Hex:  0111\n",
            "Fila  7  Columna  10  Color en Hex:  0000\n",
            "Fila  7  Columna  11  Color en Hex:  0111\n",
            "Fila  7  Columna  12  Color en Hex:  0110\n",
            "Fila  7  Columna  13  Color en Hex:  0110\n",
            "Fila  7  Columna  14  Color en Hex:  0110\n",
            "Fila  7  Columna  15  Color en Hex:  0110\n",
            "Fila  8  Columna  0  Color en Hex:  0110\n",
            "Fila  8  Columna  1  Color en Hex:  0110\n",
            "Fila  8  Columna  2  Color en Hex:  0110\n",
            "Fila  8  Columna  3  Color en Hex:  0110\n",
            "Fila  8  Columna  4  Color en Hex:  0111\n",
            "Fila  8  Columna  5  Color en Hex:  0111\n",
            "Fila  8  Columna  6  Color en Hex:  0111\n",
            "Fila  8  Columna  7  Color en Hex:  0110\n",
            "Fila  8  Columna  8  Color en Hex:  0110\n",
            "Fila  8  Columna  9  Color en Hex:  0111\n",
            "Fila  8  Columna  10  Color en Hex:  0111\n",
            "Fila  8  Columna  11  Color en Hex:  0111\n",
            "Fila  8  Columna  12  Color en Hex:  0110\n",
            "Fila  8  Columna  13  Color en Hex:  0110\n",
            "Fila  8  Columna  14  Color en Hex:  0110\n",
            "Fila  8  Columna  15  Color en Hex:  0110\n",
            "Fila  9  Columna  0  Color en Hex:  0110\n",
            "Fila  9  Columna  1  Color en Hex:  0110\n",
            "Fila  9  Columna  2  Color en Hex:  0110\n",
            "Fila  9  Columna  3  Color en Hex:  0110\n",
            "Fila  9  Columna  4  Color en Hex:  0110\n",
            "Fila  9  Columna  5  Color en Hex:  0110\n",
            "Fila  9  Columna  6  Color en Hex:  0110\n",
            "Fila  9  Columna  7  Color en Hex:  0110\n",
            "Fila  9  Columna  8  Color en Hex:  0110\n",
            "Fila  9  Columna  9  Color en Hex:  0110\n",
            "Fila  9  Columna  10  Color en Hex:  0110\n",
            "Fila  9  Columna  11  Color en Hex:  0110\n",
            "Fila  9  Columna  12  Color en Hex:  0110\n",
            "Fila  9  Columna  13  Color en Hex:  0110\n",
            "Fila  9  Columna  14  Color en Hex:  0110\n",
            "Fila  9  Columna  15  Color en Hex:  0110\n",
            "Fila  10  Columna  0  Color en Hex:  1111\n",
            "Fila  10  Columna  1  Color en Hex:  0110\n",
            "Fila  10  Columna  2  Color en Hex:  0110\n",
            "Fila  10  Columna  3  Color en Hex:  0110\n",
            "Fila  10  Columna  4  Color en Hex:  0110\n",
            "Fila  10  Columna  5  Color en Hex:  0111\n",
            "Fila  10  Columna  6  Color en Hex:  0111\n",
            "Fila  10  Columna  7  Color en Hex:  0111\n",
            "Fila  10  Columna  8  Color en Hex:  0111\n",
            "Fila  10  Columna  9  Color en Hex:  0111\n",
            "Fila  10  Columna  10  Color en Hex:  0111\n",
            "Fila  10  Columna  11  Color en Hex:  0110\n",
            "Fila  10  Columna  12  Color en Hex:  0110\n",
            "Fila  10  Columna  13  Color en Hex:  0110\n",
            "Fila  10  Columna  14  Color en Hex:  0110\n",
            "Fila  10  Columna  15  Color en Hex:  1111\n",
            "Fila  11  Columna  0  Color en Hex:  1111\n",
            "Fila  11  Columna  1  Color en Hex:  1111\n",
            "Fila  11  Columna  2  Color en Hex:  1111\n",
            "Fila  11  Columna  3  Color en Hex:  1111\n",
            "Fila  11  Columna  4  Color en Hex:  0111\n",
            "Fila  11  Columna  5  Color en Hex:  0111\n",
            "Fila  11  Columna  6  Color en Hex:  0111\n",
            "Fila  11  Columna  7  Color en Hex:  0111\n",
            "Fila  11  Columna  8  Color en Hex:  0111\n",
            "Fila  11  Columna  9  Color en Hex:  0111\n",
            "Fila  11  Columna  10  Color en Hex:  0111\n",
            "Fila  11  Columna  11  Color en Hex:  0111\n",
            "Fila  11  Columna  12  Color en Hex:  1111\n",
            "Fila  11  Columna  13  Color en Hex:  1111\n",
            "Fila  11  Columna  14  Color en Hex:  1111\n",
            "Fila  11  Columna  15  Color en Hex:  1111\n",
            "Fila  12  Columna  0  Color en Hex:  1111\n",
            "Fila  12  Columna  1  Color en Hex:  1111\n",
            "Fila  12  Columna  2  Color en Hex:  0000\n",
            "Fila  12  Columna  3  Color en Hex:  0000\n",
            "Fila  12  Columna  4  Color en Hex:  0111\n",
            "Fila  12  Columna  5  Color en Hex:  0111\n",
            "Fila  12  Columna  6  Color en Hex:  0111\n",
            "Fila  12  Columna  7  Color en Hex:  0111\n",
            "Fila  12  Columna  8  Color en Hex:  0111\n",
            "Fila  12  Columna  9  Color en Hex:  0111\n",
            "Fila  12  Columna  10  Color en Hex:  0111\n",
            "Fila  12  Columna  11  Color en Hex:  0111\n",
            "Fila  12  Columna  12  Color en Hex:  0000\n",
            "Fila  12  Columna  13  Color en Hex:  0000\n",
            "Fila  12  Columna  14  Color en Hex:  1111\n",
            "Fila  12  Columna  15  Color en Hex:  1111\n",
            "Fila  13  Columna  0  Color en Hex:  1111\n",
            "Fila  13  Columna  1  Color en Hex:  0000\n",
            "Fila  13  Columna  2  Color en Hex:  0000\n",
            "Fila  13  Columna  3  Color en Hex:  0000\n",
            "Fila  13  Columna  4  Color en Hex:  0000\n",
            "Fila  13  Columna  5  Color en Hex:  0000\n",
            "Fila  13  Columna  6  Color en Hex:  0111\n",
            "Fila  13  Columna  7  Color en Hex:  0111\n",
            "Fila  13  Columna  8  Color en Hex:  0111\n",
            "Fila  13  Columna  9  Color en Hex:  0111\n",
            "Fila  13  Columna  10  Color en Hex:  0000\n",
            "Fila  13  Columna  11  Color en Hex:  0000\n",
            "Fila  13  Columna  12  Color en Hex:  0000\n",
            "Fila  13  Columna  13  Color en Hex:  0000\n",
            "Fila  13  Columna  14  Color en Hex:  0000\n",
            "Fila  13  Columna  15  Color en Hex:  1111\n",
            "Fila  14  Columna  0  Color en Hex:  1111\n",
            "Fila  14  Columna  1  Color en Hex:  0000\n",
            "Fila  14  Columna  2  Color en Hex:  0000\n",
            "Fila  14  Columna  3  Color en Hex:  0000\n",
            "Fila  14  Columna  4  Color en Hex:  0000\n",
            "Fila  14  Columna  5  Color en Hex:  0000\n",
            "Fila  14  Columna  6  Color en Hex:  0000\n",
            "Fila  14  Columna  7  Color en Hex:  0111\n",
            "Fila  14  Columna  8  Color en Hex:  0111\n",
            "Fila  14  Columna  9  Color en Hex:  0000\n",
            "Fila  14  Columna  10  Color en Hex:  0000\n",
            "Fila  14  Columna  11  Color en Hex:  0000\n",
            "Fila  14  Columna  12  Color en Hex:  0000\n",
            "Fila  14  Columna  13  Color en Hex:  0000\n",
            "Fila  14  Columna  14  Color en Hex:  0000\n",
            "Fila  14  Columna  15  Color en Hex:  1111\n",
            "Fila  15  Columna  0  Color en Hex:  1111\n",
            "Fila  15  Columna  1  Color en Hex:  1111\n",
            "Fila  15  Columna  2  Color en Hex:  0000\n",
            "Fila  15  Columna  3  Color en Hex:  0000\n",
            "Fila  15  Columna  4  Color en Hex:  0000\n",
            "Fila  15  Columna  5  Color en Hex:  0000\n",
            "Fila  15  Columna  6  Color en Hex:  0000\n",
            "Fila  15  Columna  7  Color en Hex:  1111\n",
            "Fila  15  Columna  8  Color en Hex:  1111\n",
            "Fila  15  Columna  9  Color en Hex:  0000\n",
            "Fila  15  Columna  10  Color en Hex:  0000\n",
            "Fila  15  Columna  11  Color en Hex:  0000\n",
            "Fila  15  Columna  12  Color en Hex:  0000\n",
            "Fila  15  Columna  13  Color en Hex:  0000\n",
            "Fila  15  Columna  14  Color en Hex:  1111\n",
            "Fila  15  Columna  15  Color en Hex:  1111\n"
          ]
        }
      ]
    },
    {
      "cell_type": "markdown",
      "source": [
        "Y finalmente, pasamos a realizar el proceso inverso, es decir, pasar de nuestro codigo en hexadecimal, a la imagen"
      ],
      "metadata": {
        "id": "Ds4G9rrMkUUW"
      }
    },
    {
      "cell_type": "markdown",
      "source": [
        "Para ello, tenemos que recurrir a nuestra variable creada al principio \"hexData\", el cual es nuestra cadena hexadecimal que vamos a procesar, donde la transformamos a bytes (es decir, su equivalente a RGB) y la ingresamos a una lista"
      ],
      "metadata": {
        "id": "qM6V28Bgkibx"
      }
    },
    {
      "cell_type": "code",
      "source": [
        "# Convert hexadecimal string to list of integers\n",
        "input_bytes = bytes.fromhex(hexData)\n",
        "input_data = list(input_bytes)"
      ],
      "metadata": {
        "id": "r5kNC21ZkhRS"
      },
      "execution_count": null,
      "outputs": []
    },
    {
      "cell_type": "markdown",
      "source": [
        "# **OJO!!!! Si ya se hizo por el anterior paso, saltar hasta el bucle de recreacion de la imagen**"
      ],
      "metadata": {
        "id": "3epOKtbqwiTi"
      }
    },
    {
      "cell_type": "markdown",
      "source": [
        "-> El siguiente paso, se hace unicamente si quieres convertir una cadena de hexadecimales a imagen, es decir, sin realizar el procedimineto anterio <-"
      ],
      "metadata": {
        "id": "ib8QCh5-xG1z"
      }
    },
    {
      "cell_type": "markdown",
      "source": [
        "O puedes incluir un Codigo en Hexadecimal nuevo, añadiendolo a la siguiente variable:"
      ],
      "metadata": {
        "id": "NFxqSOEavrN0"
      }
    },
    {
      "cell_type": "code",
      "source": [
        "newHexData = \"00aaaa00aaaa00aaaa00aaaa00aaaa00000000000000000000000000000000000000aaaa00aaaa00aaaa00aaaa00aaaa00aaaa00aaaa00aaaa00000000000055ff5500aa0000aa0000aa0000aa0055ff5500000000000000aaaa00aaaa00aaaa00aaaa00aaaa00000055ff5500aa0000aa0000aa0000aa0000aa0000aa0000aa0000aa0055ff5500000000aaaa00aaaa00aaaa00aaaa00000000000000000000000000000000000000000000000000000000000000000000000000aaaa00aaaa00aaaa00000055ff5500aa0000aa0000aa0000aa0055ff5555ff5500aa0000aa0000aa0000aa0055ff5500000000aaaa00000000aa0000000000000000000000000000000000000000000000000000000000000000000000000000aa0000000000000000aa00000000aa5500ffffffffffffaa5500aa5500aa5500aa5500ffffffffffffaa550000000000aa0000000000aaaa000000aa5500ffff55ffffffffff55ffff55ffff55ffff55ffff55ffff55ffffffffff55aa550000000000aaaa00aaaa000000aa5500ffff55ffff55ffff55ffff55ffff55ffff55ffff55ffff55ffff55ffff55aa550000000000aaaa00aaaa000000aa5500ffff55ffff55ffff55ffff55ffff55ffff55ffff55ffff55ffff55ffff55aa550000000000aaaa00000000aa00000000aa5500ffffffffff55000000000000000000000000ffff55ffffffaa550000000000aa0000000000000000aa0000aa0000000000000000000000aa0000aa0000aa0000aa0000000000000000000000aa0000aa0000000000aaaa00000000aa0000aa0055ff5500000055ff5500000000000055ff5500000055ff5500aa0000aa0000000000aaaa00aaaa00aaaa00000000000000aa0000000000aa0000aa0000aa0000aa0000000000aa0000000000000000aaaa00aaaa00aaaa00aaaa00aaaa00aaaa00000000000000aa0000aa0000aa0000aa0000000000000000aaaa00aaaa00aaaa00aaaa00aaaa00aaaa00aaaa00aaaa00aaaa00aaaa00000000000000000000000000aaaa00aaaa00aaaa00aaaa00aaaa00aaaa\""
      ],
      "metadata": {
        "id": "k49whVwMvpYF"
      },
      "execution_count": null,
      "outputs": []
    },
    {
      "cell_type": "markdown",
      "source": [
        "En ejemplo para lo anterior puede ser:\n",
        "00aaaa00aaaa00aaaa00aaaa00aaaa00000000000000000000000000000000000000aaaa00aaaa00aaaa00aaaa00aaaa00aaaa00aaaa00aaaa00000000000055ff5500aa0000aa0000aa0000aa0055ff5500000000000000aaaa00aaaa00aaaa00aaaa00aaaa00000055ff5500aa0000aa0000aa0000aa0000aa0000aa0000aa0000aa0055ff5500000000aaaa00aaaa00aaaa00aaaa00000000000000000000000000000000000000000000000000000000000000000000000000aaaa00aaaa00aaaa00000055ff5500aa0000aa0000aa0000aa0055ff5555ff5500aa0000aa0000aa0000aa0055ff5500000000aaaa00000000aa0000000000000000000000000000000000000000000000000000000000000000000000000000aa0000000000000000aa00000000aa5500ffffffffffffaa5500aa5500aa5500aa5500ffffffffffffaa550000000000aa0000000000aaaa000000aa5500ffff55ffffffffff55ffff55ffff55ffff55ffff55ffff55ffffffffff55aa550000000000aaaa00aaaa000000aa5500ffff55ffff55ffff55ffff55ffff55ffff55ffff55ffff55ffff55ffff55aa550000000000aaaa00aaaa000000aa5500ffff55ffff55ffff55ffff55ffff55ffff55ffff55ffff55ffff55ffff55aa550000000000aaaa00000000aa00000000aa5500ffffffffff55000000000000000000000000ffff55ffffffaa550000000000aa0000000000000000aa0000aa0000000000000000000000aa0000aa0000aa0000aa0000000000000000000000aa0000aa0000000000aaaa00000000aa0000aa0055ff5500000055ff5500000000000055ff5500000055ff5500aa0000aa0000000000aaaa00aaaa00aaaa00000000000000aa0000000000aa0000aa0000aa0000aa0000000000aa0000000000000000aaaa00aaaa00aaaa00aaaa00aaaa00aaaa00000000000000aa0000aa0000aa0000aa0000000000000000aaaa00aaaa00aaaa00aaaa00aaaa00aaaa00aaaa00aaaa00aaaa00aaaa00000000000000000000000000aaaa00aaaa00aaaa00aaaa00aaaa00aaaa"
      ],
      "metadata": {
        "id": "24nyH2DMv8J5"
      }
    },
    {
      "cell_type": "markdown",
      "source": [
        "Tambien se puede ingresar una cadena en hexadecimal simplicada, para ello lo ingresamos en la siguiente cadena\n"
      ],
      "metadata": {
        "id": "7knIe2H89jyC"
      }
    },
    {
      "cell_type": "code",
      "source": [
        "simple_hex_string = \"666FFFFFFFF6FFFFFFFFF666666FFFFFFFFF66666666FFFFFFF6666666666FFFFF600666666006FFF66670666607666FF66670000007666F666670766707666666667776677766666666666666666666F66667777776666FFFFF77777777FFFFFF007777777700FFF00000777700000FF00000077000000FFF00000FF00000FF\""
      ],
      "metadata": {
        "id": "hUK4AaJo9tuh"
      },
      "execution_count": null,
      "outputs": []
    },
    {
      "cell_type": "markdown",
      "source": [
        "Un ejemplo de lo anterior, puede ser:\n",
        "FFFFFF6666FFFFFFFFFFF666666FFFFFFFFF66666666FFFFFFF6666666666FFFFF600666666006FFF66670666607666FF66670000007666F666670766707666666667776677766666666666666666666F66667777776666FFFFF77777777FFFFFF007777777700FFF00000777700000FF00000077000000FFF00000FF00000FF"
      ],
      "metadata": {
        "id": "e-JgGbmC-cpN"
      }
    },
    {
      "cell_type": "markdown",
      "source": [
        "Y esta cadena simplicada se procesa, para que pueda ser recibida y procesada adecuadamente por el metodo de crear la imagen, como se muestra a continuacion"
      ],
      "metadata": {
        "id": "RbWdURTs9xwV"
      }
    },
    {
      "cell_type": "code",
      "source": [
        "newHexData = simple_hex_string.replace(\"0\", \"000000\").replace(\"1\", \"0000aa\").replace(\"2\", \"00aa00\").replace(\"3\", \"00aaaa\").replace(\"4\", \"aa0000\").replace(\"5\", \"aa00aa\").replace(\"6\", \"aa5500\").replace(\"7\", \"aaaaaa\").replace(\"8\", \"555555\").replace(\"9\", \"5555ff\").replace(\"A\", \"55ff55\").replace(\"B\", \"55ffff\").replace(\"C\", \"ff5555\").replace(\"D\", \"ff55ff\").replace(\"E\", \"ff55ff\").replace(\"F\", \"ffffff\")"
      ],
      "metadata": {
        "id": "blAK0dGH98qc"
      },
      "execution_count": null,
      "outputs": []
    },
    {
      "cell_type": "code",
      "source": [
        "# Convert hexadecimal string to list of integers\n",
        "input_bytes = bytes.fromhex(newHexData)\n",
        "input_data = list(input_bytes)"
      ],
      "metadata": {
        "id": "DWiVvTfGwLJk"
      },
      "execution_count": null,
      "outputs": []
    },
    {
      "cell_type": "markdown",
      "source": [
        "# **OJO!!! Aca es donde reanudas el procedimiento que llevas desde el principio**"
      ],
      "metadata": {
        "id": "8k6HNIxbw65c"
      }
    },
    {
      "cell_type": "markdown",
      "source": [
        "Y realizamos un bucle anidado, para ir colocando cada color en su correspondiente pixel para ir recreando la imagen"
      ],
      "metadata": {
        "id": "vfTpG59vk1EY"
      }
    },
    {
      "cell_type": "code",
      "source": [
        "for hue in range(360):\n",
        "    for sat in range(100):\n",
        "        # Convert color from HSV to RGB\n",
        "        rgb = hsv_to_rgb(hue/360, sat/100, 1)\n",
        "        rgb = [int(0.5 + 255*u) for u in rgb]\n",
        "        input_data.extend(rgb)"
      ],
      "metadata": {
        "id": "QrQxNv2plBdM"
      },
      "execution_count": null,
      "outputs": []
    },
    {
      "cell_type": "markdown",
      "source": [
        "Y finalmente, creamos nuestra imagen, con ayuda de la librerias que importamos al principio"
      ],
      "metadata": {
        "id": "dYWR8_kolGwU"
      }
    },
    {
      "cell_type": "code",
      "source": [
        "# Convert list to bytes\n",
        "colors = bytes(input_data)\n",
        "img = Image.frombytes('RGB', (16, 16), colors)\n",
        "img.save('prueba_clase2.png')"
      ],
      "metadata": {
        "id": "vcc0mOBFlM0_"
      },
      "execution_count": null,
      "outputs": []
    },
    {
      "cell_type": "markdown",
      "source": [
        "Como se podra notar, se creo un nuevo archivo, llamado remake_goomba-c.png, la cual es nuestra imagen recreada desde el codigo en hexadecimal\n",
        "\n",
        "(de ser necesario, actualizar la carpeta de colab)\n",
        "\n",
        "(se recomienda descargar la imagen y abrirlo en VSC, para que se pueda apreciar mejor, debido a que es una imagen de 16px x 16 px)"
      ],
      "metadata": {
        "id": "nop4OqAGlOZA"
      }
    }
  ]
}